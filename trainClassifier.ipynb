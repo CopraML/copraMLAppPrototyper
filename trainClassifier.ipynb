{
 "cells": [
  {
   "cell_type": "code",
   "execution_count": 1,
   "metadata": {},
   "outputs": [
    {
     "name": "stdout",
     "output_type": "stream",
     "text": [
      "Package loaded\n",
      "Current folder is /Users/psbots/Desktop/hack2innovate\n"
     ]
    }
   ],
   "source": [
    "import numpy as np\n",
    "import pandas as pd\n",
    "import os\n",
    "from scipy.misc import imread, imresize\n",
    "import matplotlib.pyplot as plt\n",
    "%matplotlib inline\n",
    "print (\"Package loaded\")\n",
    "cwd = os.getcwd()\n",
    "print (\"Current folder is %s\" % (cwd) )"
   ]
  },
  {
   "cell_type": "code",
   "execution_count": 2,
   "metadata": {
    "collapsed": true
   },
   "outputs": [],
   "source": [
    "def loadData():\n",
    "    '''\n",
    "    Data providing function:\n",
    "\n",
    "    This function is separated from model() so that hyperopt\n",
    "    won't reload data for each evaluation run.\n",
    "    '''\n",
    "    imgsize = [1080, 1920]\n",
    "\n",
    "    cwd = os.getcwd()\n",
    "    loadpath = cwd + \"/data/UIScreensProcessedData.npz\"\n",
    "    l = np.load(loadpath)\n",
    "\n",
    "    # Parse data\n",
    "    X_train = l['trainimg']\n",
    "    Y_train = l['trainlabel']\n",
    "    X_test = l['testimg']\n",
    "    Y_test = l['testlabel']\n",
    "    \n",
    "    mean = np.mean(X_train, axis=0)\n",
    "    std = np.std(X_train, axis=0)\n",
    "    X_train = (X_train - mean)/std\n",
    "    X_train = X_train.reshape(-1,imgsize[0],imgsize[1],3)\n",
    "    X_train = X_train.reshape(-1,3,imgsize[0],imgsize[1])\n",
    "    \n",
    "    mean = np.mean(X_test, axis=0)\n",
    "    std = np.std(X_test, axis=0)\n",
    "    X_test = (X_test - mean)/std\n",
    "    X_test = X_test.reshape(-1,imgsize[0],imgsize[1],3)\n",
    "    X_test = X_test.reshape(-1,3,imgsize[0],imgsize[1])\n",
    "    \n",
    "    return X_train, Y_train, X_test, Y_test"
   ]
  },
  {
   "cell_type": "code",
   "execution_count": 3,
   "metadata": {
    "collapsed": true
   },
   "outputs": [],
   "source": [
    "X_train, Y_train, X_test, Y_test = loadData()"
   ]
  },
  {
   "cell_type": "code",
   "execution_count": 5,
   "metadata": {},
   "outputs": [],
   "source": [
    "os.environ['KERAS_BACKEND']='tensorflow'\n",
    "from keras.models import Sequential\n",
    "from keras.layers import Dense, Dropout, Activation, Flatten\n",
    "from keras.layers import Convolution2D, MaxPooling2D\n",
    "from keras.optimizers import SGD,Adam\n",
    "from keras.layers.advanced_activations import PReLU\n",
    "from keras.callbacks import ModelCheckpoint\n",
    "\n",
    "model = Sequential()\n",
    "# input: 1080x1920 images with 3 channels -> (3, 1080, 1920) tensors.\n",
    "# this applies 32 convolution filters of size 10x10 each.\n",
    "model.add(Convolution2D(32, 10, 10, border_mode='valid', input_shape=(3, 1080, 1920))) #input image 1080x1920 screenshots \n",
    "model.add(Activation('relu'))\n",
    "model.add(Convolution2D(32, 5, 5))\n",
    "model.add(Activation('relu'))\n",
    "model.add(MaxPooling2D(pool_size=(2, 2)))\n",
    "model.add(Dropout(0.114))\n",
    "\n",
    "model.add(Convolution2D(64, 5, 5, border_mode='valid'))\n",
    "model.add(Activation('relu'))\n",
    "model.add(Convolution2D(64, 3, 3))\n",
    "model.add(Activation('relu'))\n",
    "model.add(MaxPooling2D(pool_size=(2, 2)))\n",
    "model.add(Dropout(0.1))\n",
    "\n",
    "model.add(Convolution2D(128, 3, 3, border_mode='valid'))\n",
    "model.add(Activation('relu'))\n",
    "model.add(Convolution2D(128, 3, 3))\n",
    "model.add(Activation('relu'))\n",
    "model.add(MaxPooling2D(pool_size=(2, 2)))\n",
    "model.add(Dropout(0.128))\n",
    "\n",
    "model.add(Flatten())\n",
    "\n",
    "model.add(Dense(512))\n",
    "model.add(PReLU())\n",
    "model.add(Dropout(0.35))\n",
    "# Note: Keras does automatic shape inference.\n",
    "model.add(Dense(256))\n",
    "#model.add(Activation('relu'))\n",
    "model.add(PReLU())\n",
    "model.add(Dropout(0.35))\n",
    "\n",
    "model.add(Dense(10))\n",
    "model.add(Activation('softmax'))\n",
    "\n",
    "# sgd = SGD(lr=0.1, decay=1e-6, momentum=0.9, nesterov=True)\n",
    "adam = Adam(lr=0.001, beta_1=0.9, beta_2=0.999, epsilon=1e-08)\n",
    "model.compile(loss='categorical_crossentropy', optimizer=adam, metrics=['accuracy'])\n",
    "\n",
    "# checkpoint\n",
    "filepath=\"models/genre.weights.best.hdf5\"\n",
    "checkpoint = ModelCheckpoint(filepath, monitor='val_acc', verbose=1, save_best_only=True, mode='max')\n",
    "callbacks_list = [checkpoint]"
   ]
  },
  {
   "cell_type": "code",
   "execution_count": 6,
   "metadata": {},
   "outputs": [
    {
     "name": "stdout",
     "output_type": "stream",
     "text": [
      "Train on 33910 samples, validate on 8478 samples\n",
      "Epoch 1/30\n",
      "33888/33910 [============================>.] - ETA: 0s - loss: 1.6995 - acc: 0.3737Epoch 00000: val_acc improved from -inf to 0.42368, saving model to models/genre.weights.best.hdf5\n",
      "33910/33910 [==============================] - 137s - loss: 1.6995 - acc: 0.3737 - val_loss: 1.5760 - val_acc: 0.4237\n",
      "Epoch 2/30\n",
      "33888/33910 [============================>.] - ETA: 0s - loss: 1.5889 - acc: 0.4240Epoch 00001: val_acc improved from 0.42368 to 0.42852, saving model to models/genre.weights.best.hdf5\n",
      "33910/33910 [==============================] - 136s - loss: 1.5889 - acc: 0.4240 - val_loss: 1.5520 - val_acc: 0.4285\n",
      "Epoch 3/30\n",
      "33888/33910 [============================>.] - ETA: 0s - loss: 1.5443 - acc: 0.4388Epoch 00002: val_acc improved from 0.42852 to 0.44633, saving model to models/genre.weights.best.hdf5\n",
      "33910/33910 [==============================] - 136s - loss: 1.5444 - acc: 0.4387 - val_loss: 1.5167 - val_acc: 0.4463\n",
      "Epoch 4/30\n",
      "33888/33910 [============================>.] - ETA: 0s - loss: 1.5164 - acc: 0.4444Epoch 00003: val_acc improved from 0.44633 to 0.44751, saving model to models/genre.weights.best.hdf5\n",
      "33910/33910 [==============================] - 136s - loss: 1.5163 - acc: 0.4444 - val_loss: 1.5032 - val_acc: 0.4475\n",
      "Epoch 5/30\n",
      "33888/33910 [============================>.] - ETA: 0s - loss: 1.4913 - acc: 0.4538Epoch 00004: val_acc improved from 0.44751 to 0.45648, saving model to models/genre.weights.best.hdf5\n",
      "33910/33910 [==============================] - 136s - loss: 1.4913 - acc: 0.4538 - val_loss: 1.4854 - val_acc: 0.4565\n",
      "Epoch 6/30\n",
      "33888/33910 [============================>.] - ETA: 0s - loss: 1.4680 - acc: 0.4592Epoch 00005: val_acc improved from 0.45648 to 0.45836, saving model to models/genre.weights.best.hdf5\n",
      "33910/33910 [==============================] - 136s - loss: 1.4678 - acc: 0.4593 - val_loss: 1.4585 - val_acc: 0.4584\n",
      "Epoch 7/30\n",
      "33888/33910 [============================>.] - ETA: 0s - loss: 1.4516 - acc: 0.4680Epoch 00006: val_acc did not improve\n",
      "33910/33910 [==============================] - 136s - loss: 1.4517 - acc: 0.4680 - val_loss: 1.4785 - val_acc: 0.4540\n",
      "Epoch 8/30\n",
      "33888/33910 [============================>.] - ETA: 0s - loss: 1.4250 - acc: 0.4761Epoch 00007: val_acc improved from 0.45836 to 0.47334, saving model to models/genre.weights.best.hdf5\n",
      "33910/33910 [==============================] - 136s - loss: 1.4249 - acc: 0.4761 - val_loss: 1.4245 - val_acc: 0.4733\n",
      "Epoch 9/30\n",
      "33888/33910 [============================>.] - ETA: 0s - loss: 1.4077 - acc: 0.4847Epoch 00008: val_acc improved from 0.47334 to 0.47346, saving model to models/genre.weights.best.hdf5\n",
      "33910/33910 [==============================] - 136s - loss: 1.4076 - acc: 0.4846 - val_loss: 1.4170 - val_acc: 0.4735\n",
      "Epoch 10/30\n",
      "33888/33910 [============================>.] - ETA: 0s - loss: 1.3790 - acc: 0.4927Epoch 00009: val_acc improved from 0.47346 to 0.47806, saving model to models/genre.weights.best.hdf5\n",
      "33910/33910 [==============================] - 136s - loss: 1.3790 - acc: 0.4927 - val_loss: 1.4198 - val_acc: 0.4781\n",
      "Epoch 11/30\n",
      "33888/33910 [============================>.] - ETA: 0s - loss: 1.3571 - acc: 0.5010Epoch 00010: val_acc improved from 0.47806 to 0.48136, saving model to models/genre.weights.best.hdf5\n",
      "33910/33910 [==============================] - 136s - loss: 1.3569 - acc: 0.5011 - val_loss: 1.4087 - val_acc: 0.4814\n",
      "Epoch 12/30\n",
      "33888/33910 [============================>.] - ETA: 0s - loss: 1.3350 - acc: 0.5084Epoch 00011: val_acc improved from 0.48136 to 0.49634, saving model to models/genre.weights.best.hdf5\n",
      "33910/33910 [==============================] - 137s - loss: 1.3347 - acc: 0.5086 - val_loss: 1.3815 - val_acc: 0.4963\n",
      "Epoch 13/30\n",
      "33888/33910 [============================>.] - ETA: 0s - loss: 1.3121 - acc: 0.5195Epoch 00012: val_acc did not improve\n",
      "33910/33910 [==============================] - 136s - loss: 1.3121 - acc: 0.5195 - val_loss: 1.3842 - val_acc: 0.4942\n",
      "Epoch 14/30\n",
      "33888/33910 [============================>.] - ETA: 0s - loss: 1.2729 - acc: 0.5326Epoch 00013: val_acc improved from 0.49634 to 0.50047, saving model to models/genre.weights.best.hdf5\n",
      "33910/33910 [==============================] - 136s - loss: 1.2728 - acc: 0.5326 - val_loss: 1.3701 - val_acc: 0.5005\n",
      "Epoch 15/30\n",
      "33888/33910 [============================>.] - ETA: 0s - loss: 1.2591 - acc: 0.5401Epoch 00014: val_acc improved from 0.50047 to 0.50401, saving model to models/genre.weights.best.hdf5\n",
      "33910/33910 [==============================] - 136s - loss: 1.2588 - acc: 0.5403 - val_loss: 1.3511 - val_acc: 0.5040\n",
      "Epoch 16/30\n",
      "33888/33910 [============================>.] - ETA: 0s - loss: 1.2280 - acc: 0.5531Epoch 00015: val_acc improved from 0.50401 to 0.51875, saving model to models/genre.weights.best.hdf5\n",
      "33910/33910 [==============================] - 136s - loss: 1.2280 - acc: 0.5532 - val_loss: 1.3577 - val_acc: 0.5188\n",
      "Epoch 17/30\n",
      "33888/33910 [============================>.] - ETA: 0s - loss: 1.2006 - acc: 0.5639Epoch 00016: val_acc did not improve\n",
      "33910/33910 [==============================] - 136s - loss: 1.2004 - acc: 0.5640 - val_loss: 1.3618 - val_acc: 0.5094\n",
      "Epoch 18/30\n",
      "33888/33910 [============================>.] - ETA: 0s - loss: 1.1744 - acc: 0.5731Epoch 00017: val_acc improved from 0.51875 to 0.52713, saving model to models/genre.weights.best.hdf5\n",
      "33910/33910 [==============================] - 136s - loss: 1.1746 - acc: 0.5730 - val_loss: 1.3398 - val_acc: 0.5271\n",
      "Epoch 19/30\n",
      "33888/33910 [============================>.] - ETA: 0s - loss: 1.1559 - acc: 0.5855Epoch 00018: val_acc did not improve\n",
      "33910/33910 [==============================] - 136s - loss: 1.1558 - acc: 0.5855 - val_loss: 1.3290 - val_acc: 0.5178\n",
      "Epoch 20/30\n",
      "33888/33910 [============================>.] - ETA: 0s - loss: 1.1173 - acc: 0.5961Epoch 00019: val_acc improved from 0.52713 to 0.53727, saving model to models/genre.weights.best.hdf5\n",
      "33910/33910 [==============================] - 136s - loss: 1.1172 - acc: 0.5961 - val_loss: 1.3196 - val_acc: 0.5373\n",
      "Epoch 21/30\n",
      "33888/33910 [============================>.] - ETA: 0s - loss: 1.0968 - acc: 0.6060Epoch 00020: val_acc improved from 0.53727 to 0.54317, saving model to models/genre.weights.best.hdf5\n",
      "33910/33910 [==============================] - 136s - loss: 1.0967 - acc: 0.6060 - val_loss: 1.3110 - val_acc: 0.5432\n",
      "Epoch 22/30\n",
      "33888/33910 [============================>.] - ETA: 0s - loss: 1.0668 - acc: 0.6177Epoch 00021: val_acc improved from 0.54317 to 0.55379, saving model to models/genre.weights.best.hdf5\n",
      "33910/33910 [==============================] - 136s - loss: 1.0668 - acc: 0.6177 - val_loss: 1.2908 - val_acc: 0.5538\n",
      "Epoch 23/30\n",
      "33888/33910 [============================>.] - ETA: 0s - loss: 1.0522 - acc: 0.6252Epoch 00022: val_acc improved from 0.55379 to 0.55556, saving model to models/genre.weights.best.hdf5\n",
      "33910/33910 [==============================] - 136s - loss: 1.0521 - acc: 0.6252 - val_loss: 1.2927 - val_acc: 0.5556\n",
      "Epoch 24/30\n",
      "33888/33910 [============================>.] - ETA: 0s - loss: 1.0203 - acc: 0.6351Epoch 00023: val_acc improved from 0.55556 to 0.56818, saving model to models/genre.weights.best.hdf5\n",
      "33910/33910 [==============================] - 136s - loss: 1.0203 - acc: 0.6351 - val_loss: 1.2569 - val_acc: 0.5682\n",
      "Epoch 25/30\n",
      "33888/33910 [============================>.] - ETA: 0s - loss: 0.9960 - acc: 0.6465Epoch 00024: val_acc improved from 0.56818 to 0.57266, saving model to models/genre.weights.best.hdf5\n",
      "33910/33910 [==============================] - 136s - loss: 0.9961 - acc: 0.6465 - val_loss: 1.2590 - val_acc: 0.5727\n",
      "Epoch 26/30\n",
      "33888/33910 [============================>.] - ETA: 0s - loss: 0.9733 - acc: 0.6542Epoch 00025: val_acc did not improve\n",
      "33910/33910 [==============================] - 136s - loss: 0.9734 - acc: 0.6543 - val_loss: 1.2692 - val_acc: 0.5704\n",
      "Epoch 27/30\n",
      "33888/33910 [============================>.] - ETA: 0s - loss: 0.9522 - acc: 0.6622Epoch 00026: val_acc improved from 0.57266 to 0.58764, saving model to models/genre.weights.best.hdf5\n",
      "33910/33910 [==============================] - 137s - loss: 0.9522 - acc: 0.6621 - val_loss: 1.2389 - val_acc: 0.5876\n",
      "Epoch 28/30\n",
      "33888/33910 [============================>.] - ETA: 0s - loss: 0.9348 - acc: 0.6683Epoch 00027: val_acc improved from 0.58764 to 0.58787, saving model to models/genre.weights.best.hdf5\n",
      "33910/33910 [==============================] - 136s - loss: 0.9347 - acc: 0.6683 - val_loss: 1.2438 - val_acc: 0.5879\n",
      "Epoch 29/30\n",
      "33888/33910 [============================>.] - ETA: 0s - loss: 0.9133 - acc: 0.6804Epoch 00028: val_acc improved from 0.58787 to 0.59306, saving model to models/genre.weights.best.hdf5\n",
      "33910/33910 [==============================] - 136s - loss: 0.9134 - acc: 0.6804 - val_loss: 1.2468 - val_acc: 0.5931\n",
      "Epoch 30/30\n",
      "33888/33910 [============================>.] - ETA: 0s - loss: 0.8896 - acc: 0.6896Epoch 00029: val_acc improved from 0.59306 to 0.59566, saving model to models/genre.weights.best.hdf5\n",
      "33910/33910 [==============================] - 137s - loss: 0.8896 - acc: 0.6896 - val_loss: 1.2243 - val_acc: 0.5957\n"
     ]
    },
    {
     "data": {
      "text/plain": [
       "<keras.callbacks.History at 0x3effdec5bd10>"
      ]
     },
     "execution_count": 6,
     "metadata": {},
     "output_type": "execute_result"
    }
   ],
   "source": [
    "model.fit(X_train, Y_train, validation_split=0.2, batch_size=32, nb_epoch=30, callbacks=callbacks_list)"
   ]
  },
  {
   "cell_type": "code",
   "execution_count": 7,
   "metadata": {},
   "outputs": [
    {
     "name": "stdout",
     "output_type": "stream",
     "text": [
      "Train on 33910 samples, validate on 8478 samples\n",
      "Epoch 1/20\n",
      "33888/33910 [============================>.] - ETA: 0s - loss: 0.8685 - acc: 0.6964Epoch 00000: val_acc improved from 0.59566 to 0.60439, saving model to models/genre.weights.best.hdf5\n",
      "33910/33910 [==============================] - 136s - loss: 0.8684 - acc: 0.6965 - val_loss: 1.2163 - val_acc: 0.6044\n",
      "Epoch 2/20\n",
      "33888/33910 [============================>.] - ETA: 0s - loss: 0.8549 - acc: 0.6994Epoch 00001: val_acc did not improve\n",
      "33910/33910 [==============================] - 136s - loss: 0.8550 - acc: 0.6995 - val_loss: 1.2611 - val_acc: 0.5957\n",
      "Epoch 3/20\n",
      "33888/33910 [============================>.] - ETA: 0s - loss: 0.8455 - acc: 0.7041Epoch 00002: val_acc improved from 0.60439 to 0.60816, saving model to models/genre.weights.best.hdf5\n",
      "33910/33910 [==============================] - 136s - loss: 0.8454 - acc: 0.7042 - val_loss: 1.2271 - val_acc: 0.6082\n",
      "Epoch 4/20\n",
      "33888/33910 [============================>.] - ETA: 0s - loss: 0.8194 - acc: 0.7119Epoch 00003: val_acc improved from 0.60816 to 0.61170, saving model to models/genre.weights.best.hdf5\n",
      "33910/33910 [==============================] - 136s - loss: 0.8195 - acc: 0.7119 - val_loss: 1.2514 - val_acc: 0.6117\n",
      "Epoch 5/20\n",
      "33888/33910 [============================>.] - ETA: 0s - loss: 0.8104 - acc: 0.7179Epoch 00004: val_acc did not improve\n",
      "33910/33910 [==============================] - 136s - loss: 0.8103 - acc: 0.7179 - val_loss: 1.2339 - val_acc: 0.6112\n",
      "Epoch 6/20\n",
      "33888/33910 [============================>.] - ETA: 0s - loss: 0.7878 - acc: 0.7263Epoch 00005: val_acc improved from 0.61170 to 0.61783, saving model to models/genre.weights.best.hdf5\n",
      "33910/33910 [==============================] - 136s - loss: 0.7877 - acc: 0.7263 - val_loss: 1.2149 - val_acc: 0.6178\n",
      "Epoch 7/20\n",
      "33888/33910 [============================>.] - ETA: 0s - loss: 0.7742 - acc: 0.7334Epoch 00006: val_acc improved from 0.61783 to 0.61960, saving model to models/genre.weights.best.hdf5\n",
      "33910/33910 [==============================] - 136s - loss: 0.7743 - acc: 0.7334 - val_loss: 1.1978 - val_acc: 0.6196\n",
      "Epoch 8/20\n",
      "33888/33910 [============================>.] - ETA: 0s - loss: 0.7561 - acc: 0.7374Epoch 00007: val_acc did not improve\n",
      "33910/33910 [==============================] - 136s - loss: 0.7561 - acc: 0.7373 - val_loss: 1.2621 - val_acc: 0.6106\n",
      "Epoch 9/20\n",
      "33888/33910 [============================>.] - ETA: 0s - loss: 0.7568 - acc: 0.7372Epoch 00008: val_acc improved from 0.61960 to 0.62468, saving model to models/genre.weights.best.hdf5\n",
      "33910/33910 [==============================] - 136s - loss: 0.7569 - acc: 0.7371 - val_loss: 1.2049 - val_acc: 0.6247\n",
      "Epoch 10/20\n",
      "33888/33910 [============================>.] - ETA: 0s - loss: 0.7403 - acc: 0.7460Epoch 00009: val_acc did not improve\n",
      "33910/33910 [==============================] - 136s - loss: 0.7403 - acc: 0.7461 - val_loss: 1.2218 - val_acc: 0.6148\n",
      "Epoch 11/20\n",
      "33888/33910 [============================>.] - ETA: 0s - loss: 0.7273 - acc: 0.7504Epoch 00010: val_acc improved from 0.62468 to 0.62892, saving model to models/genre.weights.best.hdf5\n",
      "33910/33910 [==============================] - 136s - loss: 0.7276 - acc: 0.7503 - val_loss: 1.2249 - val_acc: 0.6289\n",
      "Epoch 12/20\n",
      "33888/33910 [============================>.] - ETA: 0s - loss: 0.7180 - acc: 0.7525Epoch 00011: val_acc improved from 0.62892 to 0.63612, saving model to models/genre.weights.best.hdf5\n",
      "33910/33910 [==============================] - 136s - loss: 0.7177 - acc: 0.7526 - val_loss: 1.2164 - val_acc: 0.6361\n",
      "Epoch 13/20\n",
      "33888/33910 [============================>.] - ETA: 0s - loss: 0.7059 - acc: 0.7571Epoch 00012: val_acc did not improve\n",
      "33910/33910 [==============================] - 136s - loss: 0.7062 - acc: 0.7571 - val_loss: 1.2157 - val_acc: 0.6318\n",
      "Epoch 14/20\n",
      "33888/33910 [============================>.] - ETA: 0s - loss: 0.6945 - acc: 0.7598Epoch 00013: val_acc did not improve\n",
      "33910/33910 [==============================] - 136s - loss: 0.6945 - acc: 0.7598 - val_loss: 1.2297 - val_acc: 0.6329\n",
      "Epoch 15/20\n",
      "33888/33910 [============================>.] - ETA: 0s - loss: 0.6829 - acc: 0.7646Epoch 00014: val_acc improved from 0.63612 to 0.64555, saving model to models/genre.weights.best.hdf5\n",
      "33910/33910 [==============================] - 137s - loss: 0.6830 - acc: 0.7647 - val_loss: 1.2209 - val_acc: 0.6456\n",
      "Epoch 16/20\n",
      "33888/33910 [============================>.] - ETA: 0s - loss: 0.6776 - acc: 0.7677Epoch 00015: val_acc did not improve\n",
      "33910/33910 [==============================] - 136s - loss: 0.6778 - acc: 0.7677 - val_loss: 1.1918 - val_acc: 0.6392\n",
      "Epoch 17/20\n",
      "33888/33910 [============================>.] - ETA: 0s - loss: 0.6510 - acc: 0.7775Epoch 00016: val_acc did not improve\n",
      "33910/33910 [==============================] - 136s - loss: 0.6515 - acc: 0.7774 - val_loss: 1.2477 - val_acc: 0.6361\n",
      "Epoch 18/20\n",
      "33888/33910 [============================>.] - ETA: 0s - loss: 0.6499 - acc: 0.7763Epoch 00017: val_acc did not improve\n",
      "33910/33910 [==============================] - 136s - loss: 0.6498 - acc: 0.7763 - val_loss: 1.2523 - val_acc: 0.6444\n",
      "Epoch 19/20\n",
      "33888/33910 [============================>.] - ETA: 0s - loss: 0.6412 - acc: 0.7826Epoch 00018: val_acc did not improve\n",
      "33910/33910 [==============================] - 136s - loss: 0.6411 - acc: 0.7826 - val_loss: 1.2597 - val_acc: 0.6358\n",
      "Epoch 20/20\n",
      "33888/33910 [============================>.] - ETA: 0s - loss: 0.6338 - acc: 0.7842Epoch 00019: val_acc improved from 0.64555 to 0.64579, saving model to models/genre.weights.best.hdf5\n",
      "33910/33910 [==============================] - 137s - loss: 0.6339 - acc: 0.7841 - val_loss: 1.2144 - val_acc: 0.6458\n"
     ]
    },
    {
     "data": {
      "text/plain": [
       "<keras.callbacks.History at 0x3effde80b350>"
      ]
     },
     "execution_count": 7,
     "metadata": {},
     "output_type": "execute_result"
    }
   ],
   "source": [
    "model.fit(X_train, Y_train, validation_split=0.2, batch_size=32, nb_epoch=20, callbacks=callbacks_list)"
   ]
  },
  {
   "cell_type": "code",
   "execution_count": 8,
   "metadata": {},
   "outputs": [
    {
     "name": "stdout",
     "output_type": "stream",
     "text": [
      "Train on 33910 samples, validate on 8478 samples\n",
      "Epoch 1/20\n",
      "33888/33910 [============================>.] - ETA: 0s - loss: 0.6427 - acc: 0.7802Epoch 00000: val_acc did not improve\n",
      "33910/33910 [==============================] - 136s - loss: 0.6427 - acc: 0.7802 - val_loss: 1.2449 - val_acc: 0.6425\n",
      "Epoch 2/20\n",
      "33888/33910 [============================>.] - ETA: 0s - loss: 0.6348 - acc: 0.7846Epoch 00001: val_acc improved from 0.64579 to 0.64720, saving model to models/genre.weights.best.hdf5\n",
      "33910/33910 [==============================] - 137s - loss: 0.6347 - acc: 0.7846 - val_loss: 1.2404 - val_acc: 0.6472\n",
      "Epoch 3/20\n",
      "33888/33910 [============================>.] - ETA: 0s - loss: 0.6223 - acc: 0.7895Epoch 00002: val_acc improved from 0.64720 to 0.65369, saving model to models/genre.weights.best.hdf5\n",
      "33910/33910 [==============================] - 137s - loss: 0.6223 - acc: 0.7894 - val_loss: 1.1967 - val_acc: 0.6537\n",
      "Epoch 4/20\n",
      "33888/33910 [============================>.] - ETA: 0s - loss: 0.6051 - acc: 0.7941Epoch 00003: val_acc did not improve\n",
      "33910/33910 [==============================] - 136s - loss: 0.6052 - acc: 0.7941 - val_loss: 1.1851 - val_acc: 0.6505\n",
      "Epoch 5/20\n",
      "33888/33910 [============================>.] - ETA: 0s - loss: 0.6116 - acc: 0.7941Epoch 00004: val_acc did not improve\n",
      "33910/33910 [==============================] - 136s - loss: 0.6115 - acc: 0.7941 - val_loss: 1.2084 - val_acc: 0.6531\n",
      "Epoch 6/20\n",
      "33888/33910 [============================>.] - ETA: 0s - loss: 0.5957 - acc: 0.7990Epoch 00005: val_acc improved from 0.65369 to 0.66230, saving model to models/genre.weights.best.hdf5\n",
      "33910/33910 [==============================] - 136s - loss: 0.5957 - acc: 0.7989 - val_loss: 1.1757 - val_acc: 0.6623\n",
      "Epoch 7/20\n",
      "33888/33910 [============================>.] - ETA: 0s - loss: 0.5799 - acc: 0.8050Epoch 00006: val_acc did not improve\n",
      "33910/33910 [==============================] - 136s - loss: 0.5798 - acc: 0.8050 - val_loss: 1.2165 - val_acc: 0.6539\n",
      "Epoch 8/20\n",
      "33888/33910 [============================>.] - ETA: 0s - loss: 0.5797 - acc: 0.8042Epoch 00007: val_acc did not improve\n",
      "33910/33910 [==============================] - 136s - loss: 0.5799 - acc: 0.8041 - val_loss: 1.2090 - val_acc: 0.6530\n",
      "Epoch 9/20\n",
      "33888/33910 [============================>.] - ETA: 0s - loss: 0.5779 - acc: 0.8049Epoch 00008: val_acc did not improve\n",
      "33910/33910 [==============================] - 136s - loss: 0.5782 - acc: 0.8048 - val_loss: 1.2808 - val_acc: 0.6524\n",
      "Epoch 10/20\n",
      "33888/33910 [============================>.] - ETA: 0s - loss: 0.5745 - acc: 0.8092Epoch 00009: val_acc did not improve\n",
      "33910/33910 [==============================] - 136s - loss: 0.5748 - acc: 0.8091 - val_loss: 1.2504 - val_acc: 0.6537\n",
      "Epoch 11/20\n",
      "33888/33910 [============================>.] - ETA: 0s - loss: 0.5683 - acc: 0.8090Epoch 00010: val_acc did not improve\n",
      "33910/33910 [==============================] - 136s - loss: 0.5682 - acc: 0.8090 - val_loss: 1.2177 - val_acc: 0.6526\n",
      "Epoch 12/20\n",
      "33888/33910 [============================>.] - ETA: 0s - loss: 0.5583 - acc: 0.8134Epoch 00011: val_acc did not improve\n",
      "33910/33910 [==============================] - 136s - loss: 0.5583 - acc: 0.8134 - val_loss: 1.2737 - val_acc: 0.6595\n",
      "Epoch 13/20\n",
      "33888/33910 [============================>.] - ETA: 0s - loss: 0.5721 - acc: 0.8078Epoch 00012: val_acc did not improve\n",
      "33910/33910 [==============================] - 136s - loss: 0.5723 - acc: 0.8078 - val_loss: 1.2107 - val_acc: 0.6622\n",
      "Epoch 14/20\n",
      "33888/33910 [============================>.] - ETA: 0s - loss: 0.5642 - acc: 0.8118Epoch 00013: val_acc improved from 0.66230 to 0.66808, saving model to models/genre.weights.best.hdf5\n",
      "33910/33910 [==============================] - 136s - loss: 0.5642 - acc: 0.8117 - val_loss: 1.2349 - val_acc: 0.6681\n",
      "Epoch 15/20\n",
      "33888/33910 [============================>.] - ETA: 0s - loss: 0.5482 - acc: 0.8167Epoch 00014: val_acc did not improve\n",
      "33910/33910 [==============================] - 136s - loss: 0.5484 - acc: 0.8166 - val_loss: 1.2466 - val_acc: 0.6571\n",
      "Epoch 16/20\n",
      "33888/33910 [============================>.] - ETA: 0s - loss: 0.5286 - acc: 0.8228Epoch 00015: val_acc did not improve\n",
      "33910/33910 [==============================] - 136s - loss: 0.5286 - acc: 0.8228 - val_loss: 1.2398 - val_acc: 0.6584\n",
      "Epoch 17/20\n",
      "33888/33910 [============================>.] - ETA: 0s - loss: 0.5354 - acc: 0.8215Epoch 00016: val_acc did not improve\n",
      "33910/33910 [==============================] - 136s - loss: 0.5353 - acc: 0.8216 - val_loss: 1.2442 - val_acc: 0.6605\n",
      "Epoch 18/20\n",
      "33888/33910 [============================>.] - ETA: 0s - loss: 0.5423 - acc: 0.8211Epoch 00017: val_acc did not improve\n",
      "33910/33910 [==============================] - 136s - loss: 0.5422 - acc: 0.8212 - val_loss: 1.2908 - val_acc: 0.6643\n",
      "Epoch 19/20\n",
      "33888/33910 [============================>.] - ETA: 0s - loss: 0.5360 - acc: 0.8224Epoch 00018: val_acc did not improve\n",
      "33910/33910 [==============================] - 136s - loss: 0.5360 - acc: 0.8224 - val_loss: 1.2092 - val_acc: 0.6657\n",
      "Epoch 20/20\n",
      "33888/33910 [============================>.] - ETA: 0s - loss: 0.5332 - acc: 0.8218Epoch 00019: val_acc did not improve\n",
      "33910/33910 [==============================] - 136s - loss: 0.5331 - acc: 0.8219 - val_loss: 1.2448 - val_acc: 0.6655\n"
     ]
    },
    {
     "data": {
      "text/plain": [
       "<keras.callbacks.History at 0x3effdf72b850>"
      ]
     },
     "execution_count": 8,
     "metadata": {},
     "output_type": "execute_result"
    }
   ],
   "source": [
    "model.fit(X_train, Y_train, validation_split=0.2, batch_size=32, nb_epoch=20, callbacks=callbacks_list)"
   ]
  },
  {
   "cell_type": "code",
   "execution_count": 9,
   "metadata": {
    "scrolled": true
   },
   "outputs": [
    {
     "name": "stdout",
     "output_type": "stream",
     "text": [
      "Train on 33910 samples, validate on 8478 samples\n",
      "Epoch 1/20\n",
      "33888/33910 [============================>.] - ETA: 0s - loss: 0.5193 - acc: 0.8267Epoch 00000: val_acc improved from 0.66808 to 0.66832, saving model to models/genre.weights.best.hdf5\n",
      "33910/33910 [==============================] - 137s - loss: 0.5196 - acc: 0.8266 - val_loss: 1.2493 - val_acc: 0.6683\n",
      "Epoch 2/20\n",
      "33888/33910 [============================>.] - ETA: 0s - loss: 0.5118 - acc: 0.8299Epoch 00001: val_acc did not improve\n",
      "33910/33910 [==============================] - 136s - loss: 0.5116 - acc: 0.8299 - val_loss: 1.1998 - val_acc: 0.6653\n",
      "Epoch 3/20\n",
      "33888/33910 [============================>.] - ETA: 0s - loss: 0.5180 - acc: 0.8272Epoch 00002: val_acc improved from 0.66832 to 0.67103, saving model to models/genre.weights.best.hdf5\n",
      "33910/33910 [==============================] - 137s - loss: 0.5180 - acc: 0.8272 - val_loss: 1.2723 - val_acc: 0.6710\n",
      "Epoch 4/20\n",
      "33888/33910 [============================>.] - ETA: 0s - loss: 0.5330 - acc: 0.8250Epoch 00003: val_acc improved from 0.67103 to 0.67481, saving model to models/genre.weights.best.hdf5\n",
      "33910/33910 [==============================] - 137s - loss: 0.5329 - acc: 0.8251 - val_loss: 1.2337 - val_acc: 0.6748\n",
      "Epoch 5/20\n",
      "33888/33910 [============================>.] - ETA: 0s - loss: 0.5090 - acc: 0.8320Epoch 00004: val_acc did not improve\n",
      "33910/33910 [==============================] - 136s - loss: 0.5089 - acc: 0.8321 - val_loss: 1.2346 - val_acc: 0.6662\n",
      "Epoch 6/20\n",
      "33888/33910 [============================>.] - ETA: 0s - loss: 0.5105 - acc: 0.8297Epoch 00005: val_acc did not improve\n",
      "33910/33910 [==============================] - 137s - loss: 0.5104 - acc: 0.8297 - val_loss: 1.2793 - val_acc: 0.6699\n",
      "Epoch 7/20\n",
      "33888/33910 [============================>.] - ETA: 0s - loss: 0.5011 - acc: 0.8355Epoch 00006: val_acc did not improve\n",
      "33910/33910 [==============================] - 136s - loss: 0.5010 - acc: 0.8355 - val_loss: 1.2779 - val_acc: 0.6688\n",
      "Epoch 8/20\n",
      "33888/33910 [============================>.] - ETA: 0s - loss: 0.5038 - acc: 0.8330Epoch 00007: val_acc did not improve\n",
      "33910/33910 [==============================] - 136s - loss: 0.5039 - acc: 0.8330 - val_loss: 1.2315 - val_acc: 0.6640\n",
      "Epoch 9/20\n",
      "33888/33910 [============================>.] - ETA: 0s - loss: 0.4996 - acc: 0.8338Epoch 00008: val_acc did not improve\n",
      "33910/33910 [==============================] - 136s - loss: 0.4998 - acc: 0.8339 - val_loss: 1.2571 - val_acc: 0.6699\n",
      "Epoch 10/20\n",
      "33888/33910 [============================>.] - ETA: 0s - loss: 0.4949 - acc: 0.8363Epoch 00009: val_acc did not improve\n",
      "33910/33910 [==============================] - 136s - loss: 0.4952 - acc: 0.8361 - val_loss: 1.2458 - val_acc: 0.6711\n",
      "Epoch 11/20\n",
      "33888/33910 [============================>.] - ETA: 0s - loss: 0.4978 - acc: 0.8352Epoch 00010: val_acc did not improve\n",
      "33910/33910 [==============================] - 136s - loss: 0.4978 - acc: 0.8351 - val_loss: 1.2175 - val_acc: 0.6714\n",
      "Epoch 12/20\n",
      "33888/33910 [============================>.] - ETA: 0s - loss: 0.4683 - acc: 0.8442Epoch 00011: val_acc improved from 0.67481 to 0.67622, saving model to models/genre.weights.best.hdf5\n",
      "33910/33910 [==============================] - 137s - loss: 0.4686 - acc: 0.8441 - val_loss: 1.2899 - val_acc: 0.6762\n",
      "Epoch 13/20\n",
      "33888/33910 [============================>.] - ETA: 0s - loss: 0.4837 - acc: 0.8404Epoch 00012: val_acc improved from 0.67622 to 0.67705, saving model to models/genre.weights.best.hdf5\n",
      "33910/33910 [==============================] - 137s - loss: 0.4841 - acc: 0.8402 - val_loss: 1.2771 - val_acc: 0.6770\n",
      "Epoch 14/20\n",
      "33888/33910 [============================>.] - ETA: 0s - loss: 0.4888 - acc: 0.8380Epoch 00013: val_acc did not improve\n",
      "33910/33910 [==============================] - 137s - loss: 0.4889 - acc: 0.8379 - val_loss: 1.2586 - val_acc: 0.6693\n",
      "Epoch 15/20\n",
      "33888/33910 [============================>.] - ETA: 0s - loss: 0.4843 - acc: 0.8422Epoch 00014: val_acc did not improve\n",
      "33910/33910 [==============================] - 136s - loss: 0.4843 - acc: 0.8423 - val_loss: 1.2890 - val_acc: 0.6749\n",
      "Epoch 16/20\n",
      "33888/33910 [============================>.] - ETA: 0s - loss: 0.4782 - acc: 0.8440Epoch 00015: val_acc did not improve\n",
      "33910/33910 [==============================] - 136s - loss: 0.4782 - acc: 0.8441 - val_loss: 1.2104 - val_acc: 0.6729\n",
      "Epoch 17/20\n",
      "33888/33910 [============================>.] - ETA: 0s - loss: 0.4929 - acc: 0.8379Epoch 00016: val_acc did not improve\n",
      "33910/33910 [==============================] - 136s - loss: 0.4930 - acc: 0.8379 - val_loss: 1.2650 - val_acc: 0.6742\n",
      "Epoch 18/20\n",
      "33888/33910 [============================>.] - ETA: 0s - loss: 0.4727 - acc: 0.8438Epoch 00017: val_acc did not improve\n",
      "33910/33910 [==============================] - 137s - loss: 0.4727 - acc: 0.8438 - val_loss: 1.3078 - val_acc: 0.6748\n",
      "Epoch 19/20\n",
      "33888/33910 [============================>.] - ETA: 0s - loss: 0.4714 - acc: 0.8433Epoch 00018: val_acc did not improve\n",
      "33910/33910 [==============================] - 136s - loss: 0.4712 - acc: 0.8434 - val_loss: 1.2625 - val_acc: 0.6728\n",
      "Epoch 20/20\n",
      "33888/33910 [============================>.] - ETA: 0s - loss: 0.4664 - acc: 0.8478Epoch 00019: val_acc did not improve\n",
      "33910/33910 [==============================] - 137s - loss: 0.4662 - acc: 0.8478 - val_loss: 1.2773 - val_acc: 0.6722\n"
     ]
    },
    {
     "data": {
      "text/plain": [
       "<keras.callbacks.History at 0x3fff8bf5bd50>"
      ]
     },
     "execution_count": 9,
     "metadata": {},
     "output_type": "execute_result"
    }
   ],
   "source": [
    "model.fit(X_train, Y_train, validation_split=0.2, batch_size=32, nb_epoch=20, callbacks=callbacks_list)"
   ]
  },
  {
   "cell_type": "code",
   "execution_count": 11,
   "metadata": {},
   "outputs": [
    {
     "name": "stdout",
     "output_type": "stream",
     "text": [
      "Train on 33910 samples, validate on 8478 samples\n",
      "Epoch 1/20\n",
      "33888/33910 [============================>.] - ETA: 0s - loss: 0.4523 - acc: 0.8510Epoch 00000: val_acc did not improve\n",
      "33910/33910 [==============================] - 137s - loss: 0.4523 - acc: 0.8510 - val_loss: 1.1874 - val_acc: 0.6739\n",
      "Epoch 2/20\n",
      "33888/33910 [============================>.] - ETA: 0s - loss: 0.4710 - acc: 0.8460Epoch 00001: val_acc did not improve\n",
      "33910/33910 [==============================] - 136s - loss: 0.4709 - acc: 0.8460 - val_loss: 1.2663 - val_acc: 0.6736\n",
      "Epoch 3/20\n",
      "33888/33910 [============================>.] - ETA: 0s - loss: 0.4762 - acc: 0.8432Epoch 00002: val_acc did not improve\n",
      "33910/33910 [==============================] - 137s - loss: 0.4764 - acc: 0.8432 - val_loss: 1.2538 - val_acc: 0.6702\n",
      "Epoch 4/20\n",
      "33888/33910 [============================>.] - ETA: 0s - loss: 0.4511 - acc: 0.8520Epoch 00003: val_acc did not improve\n",
      "33910/33910 [==============================] - 136s - loss: 0.4512 - acc: 0.8520 - val_loss: 1.2945 - val_acc: 0.6733\n",
      "Epoch 5/20\n",
      "33888/33910 [============================>.] - ETA: 0s - loss: 0.4508 - acc: 0.8531Epoch 00004: val_acc did not improve\n",
      "33910/33910 [==============================] - 137s - loss: 0.4511 - acc: 0.8531 - val_loss: 1.3168 - val_acc: 0.6756\n",
      "Epoch 6/20\n",
      "33888/33910 [============================>.] - ETA: 0s - loss: 0.4655 - acc: 0.8485Epoch 00005: val_acc improved from 0.67705 to 0.68059, saving model to models/genre.weights.best.hdf5\n",
      "33910/33910 [==============================] - 137s - loss: 0.4655 - acc: 0.8485 - val_loss: 1.1675 - val_acc: 0.6806\n",
      "Epoch 7/20\n",
      "33888/33910 [============================>.] - ETA: 0s - loss: 0.4566 - acc: 0.8521Epoch 00006: val_acc did not improve\n",
      "33910/33910 [==============================] - 136s - loss: 0.4570 - acc: 0.8519 - val_loss: 1.2821 - val_acc: 0.6787\n",
      "Epoch 8/20\n",
      "33888/33910 [============================>.] - ETA: 0s - loss: 0.4750 - acc: 0.8486Epoch 00007: val_acc improved from 0.68059 to 0.68625, saving model to models/genre.weights.best.hdf5\n",
      "33910/33910 [==============================] - 136s - loss: 0.4754 - acc: 0.8485 - val_loss: 1.1824 - val_acc: 0.6862\n",
      "Epoch 9/20\n",
      "33888/33910 [============================>.] - ETA: 0s - loss: 0.4595 - acc: 0.8494Epoch 00008: val_acc did not improve\n",
      "33910/33910 [==============================] - 137s - loss: 0.4595 - acc: 0.8494 - val_loss: 1.2579 - val_acc: 0.6811\n",
      "Epoch 10/20\n",
      "33888/33910 [============================>.] - ETA: 0s - loss: 0.4526 - acc: 0.8522Epoch 00009: val_acc did not improve\n",
      "33910/33910 [==============================] - 136s - loss: 0.4533 - acc: 0.8522 - val_loss: 1.3027 - val_acc: 0.6768\n",
      "Epoch 11/20\n",
      "33888/33910 [============================>.] - ETA: 0s - loss: 0.4722 - acc: 0.8466Epoch 00010: val_acc did not improve\n",
      "33910/33910 [==============================] - 136s - loss: 0.4721 - acc: 0.8466 - val_loss: 1.2506 - val_acc: 0.6788\n",
      "Epoch 12/20\n",
      "33888/33910 [============================>.] - ETA: 0s - loss: 0.4351 - acc: 0.8576Epoch 00011: val_acc did not improve\n",
      "33910/33910 [==============================] - 137s - loss: 0.4351 - acc: 0.8576 - val_loss: 1.3072 - val_acc: 0.6785\n",
      "Epoch 13/20\n",
      "33888/33910 [============================>.] - ETA: 0s - loss: 0.4444 - acc: 0.8569Epoch 00012: val_acc did not improve\n",
      "33910/33910 [==============================] - 137s - loss: 0.4445 - acc: 0.8568 - val_loss: 1.2939 - val_acc: 0.6716\n",
      "Epoch 14/20\n",
      "33888/33910 [============================>.] - ETA: 0s - loss: 0.4636 - acc: 0.8502Epoch 00013: val_acc did not improve\n",
      "33910/33910 [==============================] - 137s - loss: 0.4637 - acc: 0.8502 - val_loss: 1.2920 - val_acc: 0.6750\n",
      "Epoch 15/20\n",
      "33888/33910 [============================>.] - ETA: 0s - loss: 0.4304 - acc: 0.8607Epoch 00014: val_acc did not improve\n",
      "33910/33910 [==============================] - 137s - loss: 0.4312 - acc: 0.8605 - val_loss: 1.5789 - val_acc: 0.5347\n",
      "Epoch 16/20\n",
      "33888/33910 [============================>.] - ETA: 0s - loss: 0.5573 - acc: 0.8159Epoch 00015: val_acc did not improve\n",
      "33910/33910 [==============================] - 136s - loss: 0.5574 - acc: 0.8158 - val_loss: 1.3091 - val_acc: 0.6342\n",
      "Epoch 17/20\n",
      " 5024/33910 [===>..........................] - ETA: 109s - loss: 0.4980 - acc: 0.8430"
     ]
    },
    {
     "ename": "KeyboardInterrupt",
     "evalue": "",
     "output_type": "error",
     "traceback": [
      "\u001b[1;31m\u001b[0m",
      "\u001b[1;31mKeyboardInterrupt\u001b[0mTraceback (most recent call last)",
      "\u001b[1;32m<ipython-input-11-7b19bf52780d>\u001b[0m in \u001b[0;36m<module>\u001b[1;34m()\u001b[0m\n\u001b[1;32m----> 1\u001b[1;33m \u001b[0mmodel\u001b[0m\u001b[1;33m.\u001b[0m\u001b[0mfit\u001b[0m\u001b[1;33m(\u001b[0m\u001b[0mX_train\u001b[0m\u001b[1;33m,\u001b[0m \u001b[0mY_train\u001b[0m\u001b[1;33m,\u001b[0m \u001b[0mvalidation_split\u001b[0m\u001b[1;33m=\u001b[0m\u001b[1;36m0.2\u001b[0m\u001b[1;33m,\u001b[0m \u001b[0mbatch_size\u001b[0m\u001b[1;33m=\u001b[0m\u001b[1;36m32\u001b[0m\u001b[1;33m,\u001b[0m \u001b[0mnb_epoch\u001b[0m\u001b[1;33m=\u001b[0m\u001b[1;36m20\u001b[0m\u001b[1;33m,\u001b[0m \u001b[0mcallbacks\u001b[0m\u001b[1;33m=\u001b[0m\u001b[0mcallbacks_list\u001b[0m\u001b[1;33m)\u001b[0m\u001b[1;33m\u001b[0m\u001b[0m\n\u001b[0m",
      "\u001b[1;32m/usr/local/lib/python2.7/dist-packages/keras/models.pyc\u001b[0m in \u001b[0;36mfit\u001b[1;34m(self, x, y, batch_size, nb_epoch, verbose, callbacks, validation_split, validation_data, shuffle, class_weight, sample_weight, **kwargs)\u001b[0m\n\u001b[0;32m    618\u001b[0m                               \u001b[0mshuffle\u001b[0m\u001b[1;33m=\u001b[0m\u001b[0mshuffle\u001b[0m\u001b[1;33m,\u001b[0m\u001b[1;33m\u001b[0m\u001b[0m\n\u001b[0;32m    619\u001b[0m                               \u001b[0mclass_weight\u001b[0m\u001b[1;33m=\u001b[0m\u001b[0mclass_weight\u001b[0m\u001b[1;33m,\u001b[0m\u001b[1;33m\u001b[0m\u001b[0m\n\u001b[1;32m--> 620\u001b[1;33m                               sample_weight=sample_weight)\n\u001b[0m\u001b[0;32m    621\u001b[0m \u001b[1;33m\u001b[0m\u001b[0m\n\u001b[0;32m    622\u001b[0m     def evaluate(self, x, y, batch_size=32, verbose=1,\n",
      "\u001b[1;32m/usr/local/lib/python2.7/dist-packages/keras/engine/training.pyc\u001b[0m in \u001b[0;36mfit\u001b[1;34m(self, x, y, batch_size, nb_epoch, verbose, callbacks, validation_split, validation_data, shuffle, class_weight, sample_weight)\u001b[0m\n\u001b[0;32m   1102\u001b[0m                               \u001b[0mverbose\u001b[0m\u001b[1;33m=\u001b[0m\u001b[0mverbose\u001b[0m\u001b[1;33m,\u001b[0m \u001b[0mcallbacks\u001b[0m\u001b[1;33m=\u001b[0m\u001b[0mcallbacks\u001b[0m\u001b[1;33m,\u001b[0m\u001b[1;33m\u001b[0m\u001b[0m\n\u001b[0;32m   1103\u001b[0m                               \u001b[0mval_f\u001b[0m\u001b[1;33m=\u001b[0m\u001b[0mval_f\u001b[0m\u001b[1;33m,\u001b[0m \u001b[0mval_ins\u001b[0m\u001b[1;33m=\u001b[0m\u001b[0mval_ins\u001b[0m\u001b[1;33m,\u001b[0m \u001b[0mshuffle\u001b[0m\u001b[1;33m=\u001b[0m\u001b[0mshuffle\u001b[0m\u001b[1;33m,\u001b[0m\u001b[1;33m\u001b[0m\u001b[0m\n\u001b[1;32m-> 1104\u001b[1;33m                               callback_metrics=callback_metrics)\n\u001b[0m\u001b[0;32m   1105\u001b[0m \u001b[1;33m\u001b[0m\u001b[0m\n\u001b[0;32m   1106\u001b[0m     \u001b[1;32mdef\u001b[0m \u001b[0mevaluate\u001b[0m\u001b[1;33m(\u001b[0m\u001b[0mself\u001b[0m\u001b[1;33m,\u001b[0m \u001b[0mx\u001b[0m\u001b[1;33m,\u001b[0m \u001b[0my\u001b[0m\u001b[1;33m,\u001b[0m \u001b[0mbatch_size\u001b[0m\u001b[1;33m=\u001b[0m\u001b[1;36m32\u001b[0m\u001b[1;33m,\u001b[0m \u001b[0mverbose\u001b[0m\u001b[1;33m=\u001b[0m\u001b[1;36m1\u001b[0m\u001b[1;33m,\u001b[0m \u001b[0msample_weight\u001b[0m\u001b[1;33m=\u001b[0m\u001b[0mNone\u001b[0m\u001b[1;33m)\u001b[0m\u001b[1;33m:\u001b[0m\u001b[1;33m\u001b[0m\u001b[0m\n",
      "\u001b[1;32m/usr/local/lib/python2.7/dist-packages/keras/engine/training.pyc\u001b[0m in \u001b[0;36m_fit_loop\u001b[1;34m(self, f, ins, out_labels, batch_size, nb_epoch, verbose, callbacks, val_f, val_ins, shuffle, callback_metrics)\u001b[0m\n\u001b[0;32m    820\u001b[0m                 \u001b[0mbatch_logs\u001b[0m\u001b[1;33m[\u001b[0m\u001b[1;34m'size'\u001b[0m\u001b[1;33m]\u001b[0m \u001b[1;33m=\u001b[0m \u001b[0mlen\u001b[0m\u001b[1;33m(\u001b[0m\u001b[0mbatch_ids\u001b[0m\u001b[1;33m)\u001b[0m\u001b[1;33m\u001b[0m\u001b[0m\n\u001b[0;32m    821\u001b[0m                 \u001b[0mcallbacks\u001b[0m\u001b[1;33m.\u001b[0m\u001b[0mon_batch_begin\u001b[0m\u001b[1;33m(\u001b[0m\u001b[0mbatch_index\u001b[0m\u001b[1;33m,\u001b[0m \u001b[0mbatch_logs\u001b[0m\u001b[1;33m)\u001b[0m\u001b[1;33m\u001b[0m\u001b[0m\n\u001b[1;32m--> 822\u001b[1;33m                 \u001b[0mouts\u001b[0m \u001b[1;33m=\u001b[0m \u001b[0mf\u001b[0m\u001b[1;33m(\u001b[0m\u001b[0mins_batch\u001b[0m\u001b[1;33m)\u001b[0m\u001b[1;33m\u001b[0m\u001b[0m\n\u001b[0m\u001b[0;32m    823\u001b[0m                 \u001b[1;32mif\u001b[0m \u001b[0mtype\u001b[0m\u001b[1;33m(\u001b[0m\u001b[0mouts\u001b[0m\u001b[1;33m)\u001b[0m \u001b[1;33m!=\u001b[0m \u001b[0mlist\u001b[0m\u001b[1;33m:\u001b[0m\u001b[1;33m\u001b[0m\u001b[0m\n\u001b[0;32m    824\u001b[0m                     \u001b[0mouts\u001b[0m \u001b[1;33m=\u001b[0m \u001b[1;33m[\u001b[0m\u001b[0mouts\u001b[0m\u001b[1;33m]\u001b[0m\u001b[1;33m\u001b[0m\u001b[0m\n",
      "\u001b[1;32m/usr/local/lib/python2.7/dist-packages/keras/backend/tensorflow_backend.pyc\u001b[0m in \u001b[0;36m__call__\u001b[1;34m(self, inputs)\u001b[0m\n\u001b[0;32m    969\u001b[0m         \u001b[0mfeed_dict\u001b[0m \u001b[1;33m=\u001b[0m \u001b[0mdict\u001b[0m\u001b[1;33m(\u001b[0m\u001b[0mzip\u001b[0m\u001b[1;33m(\u001b[0m\u001b[0mnames\u001b[0m\u001b[1;33m,\u001b[0m \u001b[0minputs\u001b[0m\u001b[1;33m)\u001b[0m\u001b[1;33m)\u001b[0m\u001b[1;33m\u001b[0m\u001b[0m\n\u001b[0;32m    970\u001b[0m         \u001b[0msession\u001b[0m \u001b[1;33m=\u001b[0m \u001b[0mget_session\u001b[0m\u001b[1;33m(\u001b[0m\u001b[1;33m)\u001b[0m\u001b[1;33m\u001b[0m\u001b[0m\n\u001b[1;32m--> 971\u001b[1;33m         \u001b[0mupdated\u001b[0m \u001b[1;33m=\u001b[0m \u001b[0msession\u001b[0m\u001b[1;33m.\u001b[0m\u001b[0mrun\u001b[0m\u001b[1;33m(\u001b[0m\u001b[0mself\u001b[0m\u001b[1;33m.\u001b[0m\u001b[0moutputs\u001b[0m \u001b[1;33m+\u001b[0m \u001b[1;33m[\u001b[0m\u001b[0mself\u001b[0m\u001b[1;33m.\u001b[0m\u001b[0mupdates_op\u001b[0m\u001b[1;33m]\u001b[0m\u001b[1;33m,\u001b[0m \u001b[0mfeed_dict\u001b[0m\u001b[1;33m=\u001b[0m\u001b[0mfeed_dict\u001b[0m\u001b[1;33m)\u001b[0m\u001b[1;33m\u001b[0m\u001b[0m\n\u001b[0m\u001b[0;32m    972\u001b[0m         \u001b[1;32mreturn\u001b[0m \u001b[0mupdated\u001b[0m\u001b[1;33m[\u001b[0m\u001b[1;33m:\u001b[0m\u001b[0mlen\u001b[0m\u001b[1;33m(\u001b[0m\u001b[0mself\u001b[0m\u001b[1;33m.\u001b[0m\u001b[0moutputs\u001b[0m\u001b[1;33m)\u001b[0m\u001b[1;33m]\u001b[0m\u001b[1;33m\u001b[0m\u001b[0m\n\u001b[0;32m    973\u001b[0m \u001b[1;33m\u001b[0m\u001b[0m\n",
      "\u001b[1;32m/usr/local/lib/python2.7/dist-packages/tensorflow/python/client/session.pyc\u001b[0m in \u001b[0;36mrun\u001b[1;34m(self, fetches, feed_dict, options, run_metadata)\u001b[0m\n\u001b[0;32m    338\u001b[0m     \u001b[1;32mtry\u001b[0m\u001b[1;33m:\u001b[0m\u001b[1;33m\u001b[0m\u001b[0m\n\u001b[0;32m    339\u001b[0m       result = self._run(None, fetches, feed_dict, options_ptr,\n\u001b[1;32m--> 340\u001b[1;33m                          run_metadata_ptr)\n\u001b[0m\u001b[0;32m    341\u001b[0m       \u001b[1;32mif\u001b[0m \u001b[0mrun_metadata\u001b[0m\u001b[1;33m:\u001b[0m\u001b[1;33m\u001b[0m\u001b[0m\n\u001b[0;32m    342\u001b[0m         \u001b[0mproto_data\u001b[0m \u001b[1;33m=\u001b[0m \u001b[0mtf_session\u001b[0m\u001b[1;33m.\u001b[0m\u001b[0mTF_GetBuffer\u001b[0m\u001b[1;33m(\u001b[0m\u001b[0mrun_metadata_ptr\u001b[0m\u001b[1;33m)\u001b[0m\u001b[1;33m\u001b[0m\u001b[0m\n",
      "\u001b[1;32m/usr/local/lib/python2.7/dist-packages/tensorflow/python/client/session.pyc\u001b[0m in \u001b[0;36m_run\u001b[1;34m(self, handle, fetches, feed_dict, options, run_metadata)\u001b[0m\n\u001b[0;32m    562\u001b[0m     \u001b[1;32mtry\u001b[0m\u001b[1;33m:\u001b[0m\u001b[1;33m\u001b[0m\u001b[0m\n\u001b[0;32m    563\u001b[0m       results = self._do_run(handle, target_list, unique_fetches,\n\u001b[1;32m--> 564\u001b[1;33m                              feed_dict_string, options, run_metadata)\n\u001b[0m\u001b[0;32m    565\u001b[0m     \u001b[1;32mfinally\u001b[0m\u001b[1;33m:\u001b[0m\u001b[1;33m\u001b[0m\u001b[0m\n\u001b[0;32m    566\u001b[0m       \u001b[1;31m# The movers are no longer used. Delete them.\u001b[0m\u001b[1;33m\u001b[0m\u001b[1;33m\u001b[0m\u001b[0m\n",
      "\u001b[1;32m/usr/local/lib/python2.7/dist-packages/tensorflow/python/client/session.pyc\u001b[0m in \u001b[0;36m_do_run\u001b[1;34m(self, handle, target_list, fetch_list, feed_dict, options, run_metadata)\u001b[0m\n\u001b[0;32m    635\u001b[0m     \u001b[1;32mif\u001b[0m \u001b[0mhandle\u001b[0m \u001b[1;32mis\u001b[0m \u001b[0mNone\u001b[0m\u001b[1;33m:\u001b[0m\u001b[1;33m\u001b[0m\u001b[0m\n\u001b[0;32m    636\u001b[0m       return self._do_call(_run_fn, self._session, feed_dict, fetch_list,\n\u001b[1;32m--> 637\u001b[1;33m                            target_list, options, run_metadata)\n\u001b[0m\u001b[0;32m    638\u001b[0m     \u001b[1;32melse\u001b[0m\u001b[1;33m:\u001b[0m\u001b[1;33m\u001b[0m\u001b[0m\n\u001b[0;32m    639\u001b[0m       return self._do_call(_prun_fn, self._session, handle, feed_dict,\n",
      "\u001b[1;32m/usr/local/lib/python2.7/dist-packages/tensorflow/python/client/session.pyc\u001b[0m in \u001b[0;36m_do_call\u001b[1;34m(self, fn, *args)\u001b[0m\n\u001b[0;32m    642\u001b[0m   \u001b[1;32mdef\u001b[0m \u001b[0m_do_call\u001b[0m\u001b[1;33m(\u001b[0m\u001b[0mself\u001b[0m\u001b[1;33m,\u001b[0m \u001b[0mfn\u001b[0m\u001b[1;33m,\u001b[0m \u001b[1;33m*\u001b[0m\u001b[0margs\u001b[0m\u001b[1;33m)\u001b[0m\u001b[1;33m:\u001b[0m\u001b[1;33m\u001b[0m\u001b[0m\n\u001b[0;32m    643\u001b[0m     \u001b[1;32mtry\u001b[0m\u001b[1;33m:\u001b[0m\u001b[1;33m\u001b[0m\u001b[0m\n\u001b[1;32m--> 644\u001b[1;33m       \u001b[1;32mreturn\u001b[0m \u001b[0mfn\u001b[0m\u001b[1;33m(\u001b[0m\u001b[1;33m*\u001b[0m\u001b[0margs\u001b[0m\u001b[1;33m)\u001b[0m\u001b[1;33m\u001b[0m\u001b[0m\n\u001b[0m\u001b[0;32m    645\u001b[0m     \u001b[1;32mexcept\u001b[0m \u001b[0mtf_session\u001b[0m\u001b[1;33m.\u001b[0m\u001b[0mStatusNotOK\u001b[0m \u001b[1;32mas\u001b[0m \u001b[0me\u001b[0m\u001b[1;33m:\u001b[0m\u001b[1;33m\u001b[0m\u001b[0m\n\u001b[0;32m    646\u001b[0m       \u001b[0merror_message\u001b[0m \u001b[1;33m=\u001b[0m \u001b[0mcompat\u001b[0m\u001b[1;33m.\u001b[0m\u001b[0mas_text\u001b[0m\u001b[1;33m(\u001b[0m\u001b[0me\u001b[0m\u001b[1;33m.\u001b[0m\u001b[0merror_message\u001b[0m\u001b[1;33m)\u001b[0m\u001b[1;33m\u001b[0m\u001b[0m\n",
      "\u001b[1;32m/usr/local/lib/python2.7/dist-packages/tensorflow/python/client/session.pyc\u001b[0m in \u001b[0;36m_run_fn\u001b[1;34m(session, feed_dict, fetch_list, target_list, options, run_metadata)\u001b[0m\n\u001b[0;32m    626\u001b[0m       \u001b[1;32melse\u001b[0m\u001b[1;33m:\u001b[0m\u001b[1;33m\u001b[0m\u001b[0m\n\u001b[0;32m    627\u001b[0m         return tf_session.TF_Run(\n\u001b[1;32m--> 628\u001b[1;33m             session, None, feed_dict, fetch_list, target_list, None)\n\u001b[0m\u001b[0;32m    629\u001b[0m \u001b[1;33m\u001b[0m\u001b[0m\n\u001b[0;32m    630\u001b[0m     \u001b[1;32mdef\u001b[0m \u001b[0m_prun_fn\u001b[0m\u001b[1;33m(\u001b[0m\u001b[0msession\u001b[0m\u001b[1;33m,\u001b[0m \u001b[0mhandle\u001b[0m\u001b[1;33m,\u001b[0m \u001b[0mfeed_dict\u001b[0m\u001b[1;33m,\u001b[0m \u001b[0mfetch_list\u001b[0m\u001b[1;33m)\u001b[0m\u001b[1;33m:\u001b[0m\u001b[1;33m\u001b[0m\u001b[0m\n",
      "\u001b[1;31mKeyboardInterrupt\u001b[0m: "
     ]
    }
   ],
   "source": [
    "model.fit(X_train, Y_train, validation_split=0.2, batch_size=32, nb_epoch=20, callbacks=callbacks_list)"
   ]
  },
  {
   "cell_type": "code",
   "execution_count": 12,
   "metadata": {},
   "outputs": [
    {
     "name": "stdout",
     "output_type": "stream",
     "text": [
      "10592/10597 [============================>.] - ETA: 0s[1.2369223987537588, 0.67537982448143841]\n"
     ]
    }
   ],
   "source": [
    "score = model.evaluate(X_test, Y_test, batch_size=32)\n",
    "print score"
   ]
  },
  {
   "cell_type": "code",
   "execution_count": null,
   "metadata": {
    "collapsed": true
   },
   "outputs": [],
   "source": []
  }
 ],
 "metadata": {
  "anaconda-cloud": {},
  "kernelspec": {
   "display_name": "Python [conda env:py2]",
   "language": "python",
   "name": "conda-env-py2-py"
  },
  "language_info": {
   "codemirror_mode": {
    "name": "ipython",
    "version": 2
   },
   "file_extension": ".py",
   "mimetype": "text/x-python",
   "name": "python",
   "nbconvert_exporter": "python",
   "pygments_lexer": "ipython2",
   "version": "2.7.12"
  }
 },
 "nbformat": 4,
 "nbformat_minor": 1
}
